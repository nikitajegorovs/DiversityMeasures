{
 "cells": [
  {
   "cell_type": "code",
   "execution_count": 8,
   "metadata": {
    "ExecuteTime": {
     "end_time": "2024-03-25T20:41:03.485805Z",
     "start_time": "2024-03-25T20:40:57.335265Z"
    }
   },
   "outputs": [
    {
     "name": "stdout",
     "output_type": "stream",
     "text": [
      "Removed: /home/nikita/Workspace/DiversityMeasures/anim/pic0027.png\n",
      "Removed: /home/nikita/Workspace/DiversityMeasures/anim/pic0009.png\n",
      "Removed: /home/nikita/Workspace/DiversityMeasures/anim/pic0059.png\n",
      "Removed: /home/nikita/Workspace/DiversityMeasures/anim/pic0040.png\n",
      "Removed: /home/nikita/Workspace/DiversityMeasures/anim/pic0063.png\n",
      "Removed: /home/nikita/Workspace/DiversityMeasures/anim/pic0013.png\n",
      "Removed: /home/nikita/Workspace/DiversityMeasures/anim/pic0024.png\n",
      "Removed: /home/nikita/Workspace/DiversityMeasures/anim/pic0062.png\n",
      "Removed: /home/nikita/Workspace/DiversityMeasures/anim/pic0065.png\n",
      "Removed: /home/nikita/Workspace/DiversityMeasures/anim/pic0053.png\n",
      "Removed: /home/nikita/Workspace/DiversityMeasures/anim/pic0036.png\n",
      "Removed: /home/nikita/Workspace/DiversityMeasures/anim/pic0004.png\n",
      "Removed: /home/nikita/Workspace/DiversityMeasures/anim/pic0021.png\n",
      "Removed: /home/nikita/Workspace/DiversityMeasures/anim/pic0048.png\n",
      "Removed: /home/nikita/Workspace/DiversityMeasures/anim/pic0003.png\n",
      "Removed: /home/nikita/Workspace/DiversityMeasures/anim/pic0034.png\n",
      "Removed: /home/nikita/Workspace/DiversityMeasures/anim/pic0002.png\n",
      "Removed: /home/nikita/Workspace/DiversityMeasures/anim/pic0011.png\n",
      "Removed: /home/nikita/Workspace/DiversityMeasures/anim/pic0058.png\n",
      "Removed: /home/nikita/Workspace/DiversityMeasures/anim/pic0006.png\n",
      "Removed: /home/nikita/Workspace/DiversityMeasures/anim/pic0043.png\n",
      "Removed: /home/nikita/Workspace/DiversityMeasures/anim/pic0042.png\n",
      "Removed: /home/nikita/Workspace/DiversityMeasures/anim/pic0005.png\n",
      "Removed: /home/nikita/Workspace/DiversityMeasures/anim/pic0007.png\n",
      "Removed: /home/nikita/Workspace/DiversityMeasures/anim/pic0001.png\n",
      "Removed: /home/nikita/Workspace/DiversityMeasures/anim/pic0041.png\n",
      "Removed: /home/nikita/Workspace/DiversityMeasures/anim/pic0045.png\n",
      "Removed: /home/nikita/Workspace/DiversityMeasures/anim/pic0049.png\n",
      "Removed: /home/nikita/Workspace/DiversityMeasures/anim/pic0015.png\n",
      "Removed: /home/nikita/Workspace/DiversityMeasures/anim/pic0067.png\n",
      "Removed: /home/nikita/Workspace/DiversityMeasures/anim/pic0028.png\n",
      "Removed: /home/nikita/Workspace/DiversityMeasures/anim/pic0056.png\n",
      "Removed: /home/nikita/Workspace/DiversityMeasures/anim/pic0017.png\n",
      "Removed: /home/nikita/Workspace/DiversityMeasures/anim/pic0046.png\n",
      "Removed: /home/nikita/Workspace/DiversityMeasures/anim/pic0030.png\n",
      "Removed: /home/nikita/Workspace/DiversityMeasures/anim/pic0061.png\n",
      "Removed: /home/nikita/Workspace/DiversityMeasures/anim/pic0033.png\n",
      "Removed: /home/nikita/Workspace/DiversityMeasures/anim/pic0054.png\n",
      "Removed: /home/nikita/Workspace/DiversityMeasures/anim/pic0057.png\n",
      "Removed: /home/nikita/Workspace/DiversityMeasures/anim/pic0035.png\n",
      "Removed: /home/nikita/Workspace/DiversityMeasures/anim/pic0066.png\n",
      "Removed: /home/nikita/Workspace/DiversityMeasures/anim/pic0073.png\n",
      "Removed: /home/nikita/Workspace/DiversityMeasures/anim/pic0064.png\n",
      "Removed: /home/nikita/Workspace/DiversityMeasures/anim/pic0014.png\n",
      "Removed: /home/nikita/Workspace/DiversityMeasures/anim/pic0008.png\n",
      "Removed: /home/nikita/Workspace/DiversityMeasures/anim/pic0026.png\n",
      "Removed: /home/nikita/Workspace/DiversityMeasures/anim/pic0022.png\n",
      "Removed: /home/nikita/Workspace/DiversityMeasures/anim/pic0069.png\n",
      "Removed: /home/nikita/Workspace/DiversityMeasures/anim/pic0032.png\n",
      "Removed: /home/nikita/Workspace/DiversityMeasures/anim/pic0051.png\n",
      "Removed: /home/nikita/Workspace/DiversityMeasures/anim/pic0070.png\n",
      "Removed: /home/nikita/Workspace/DiversityMeasures/anim/pic0071.png\n",
      "Removed: /home/nikita/Workspace/DiversityMeasures/anim/pic0012.png\n",
      "Removed: /home/nikita/Workspace/DiversityMeasures/anim/pic0047.png\n",
      "Removed: /home/nikita/Workspace/DiversityMeasures/anim/pic0023.png\n",
      "Removed: /home/nikita/Workspace/DiversityMeasures/anim/pic0052.png\n",
      "Removed: /home/nikita/Workspace/DiversityMeasures/anim/pic0068.png\n",
      "Removed: /home/nikita/Workspace/DiversityMeasures/anim/pic0050.png\n",
      "Removed: /home/nikita/Workspace/DiversityMeasures/anim/pic0074.png\n",
      "Removed: /home/nikita/Workspace/DiversityMeasures/anim/pic0038.png\n",
      "Removed: /home/nikita/Workspace/DiversityMeasures/anim/pic0025.png\n",
      "Removed: /home/nikita/Workspace/DiversityMeasures/anim/pic0010.png\n",
      "Removed: /home/nikita/Workspace/DiversityMeasures/anim/pic0055.png\n",
      "Removed: /home/nikita/Workspace/DiversityMeasures/anim/pic0031.png\n",
      "Removed: /home/nikita/Workspace/DiversityMeasures/anim/pic0039.png\n",
      "Removed: /home/nikita/Workspace/DiversityMeasures/anim/pic0044.png\n",
      "Removed: /home/nikita/Workspace/DiversityMeasures/anim/pic0029.png\n",
      "Removed: /home/nikita/Workspace/DiversityMeasures/anim/pic0018.png\n",
      "Removed: /home/nikita/Workspace/DiversityMeasures/anim/pic0016.png\n",
      "Removed: /home/nikita/Workspace/DiversityMeasures/anim/pic0019.png\n",
      "Removed: /home/nikita/Workspace/DiversityMeasures/anim/pic0072.png\n",
      "Removed: /home/nikita/Workspace/DiversityMeasures/anim/pic0020.png\n",
      "Removed: /home/nikita/Workspace/DiversityMeasures/anim/pic0060.png\n",
      "Removed: /home/nikita/Workspace/DiversityMeasures/anim/pic0037.png\n"
     ]
    },
    {
     "name": "stderr",
     "output_type": "stream",
     "text": [
      "/tmp/ipykernel_213757/475914386.py:58: RuntimeWarning: More than 20 figures have been opened. Figures created through the pyplot interface (`matplotlib.pyplot.figure`) are retained until explicitly closed and may consume too much memory. (To control this warning, see the rcParam `figure.max_open_warning`). Consider using `matplotlib.pyplot.close()`.\n",
      "  plt.figure(figsize=(10, 5))\n"
     ]
    },
    {
     "data": {
      "text/plain": "<Figure size 1000x500 with 0 Axes>"
     },
     "metadata": {},
     "output_type": "display_data"
    },
    {
     "data": {
      "text/plain": "<Figure size 1000x500 with 0 Axes>"
     },
     "metadata": {},
     "output_type": "display_data"
    },
    {
     "data": {
      "text/plain": "<Figure size 1000x500 with 0 Axes>"
     },
     "metadata": {},
     "output_type": "display_data"
    },
    {
     "data": {
      "text/plain": "<Figure size 1000x500 with 0 Axes>"
     },
     "metadata": {},
     "output_type": "display_data"
    },
    {
     "data": {
      "text/plain": "<Figure size 1000x500 with 0 Axes>"
     },
     "metadata": {},
     "output_type": "display_data"
    },
    {
     "data": {
      "text/plain": "<Figure size 1000x500 with 0 Axes>"
     },
     "metadata": {},
     "output_type": "display_data"
    },
    {
     "data": {
      "text/plain": "<Figure size 1000x500 with 0 Axes>"
     },
     "metadata": {},
     "output_type": "display_data"
    },
    {
     "data": {
      "text/plain": "<Figure size 1000x500 with 0 Axes>"
     },
     "metadata": {},
     "output_type": "display_data"
    },
    {
     "data": {
      "text/plain": "<Figure size 1000x500 with 0 Axes>"
     },
     "metadata": {},
     "output_type": "display_data"
    },
    {
     "data": {
      "text/plain": "<Figure size 1000x500 with 0 Axes>"
     },
     "metadata": {},
     "output_type": "display_data"
    },
    {
     "data": {
      "text/plain": "<Figure size 1000x500 with 0 Axes>"
     },
     "metadata": {},
     "output_type": "display_data"
    },
    {
     "data": {
      "text/plain": "<Figure size 1000x500 with 0 Axes>"
     },
     "metadata": {},
     "output_type": "display_data"
    },
    {
     "data": {
      "text/plain": "<Figure size 1000x500 with 0 Axes>"
     },
     "metadata": {},
     "output_type": "display_data"
    },
    {
     "data": {
      "text/plain": "<Figure size 1000x500 with 0 Axes>"
     },
     "metadata": {},
     "output_type": "display_data"
    },
    {
     "data": {
      "text/plain": "<Figure size 1000x500 with 0 Axes>"
     },
     "metadata": {},
     "output_type": "display_data"
    },
    {
     "data": {
      "text/plain": "<Figure size 1000x500 with 0 Axes>"
     },
     "metadata": {},
     "output_type": "display_data"
    },
    {
     "data": {
      "text/plain": "<Figure size 1000x500 with 0 Axes>"
     },
     "metadata": {},
     "output_type": "display_data"
    },
    {
     "data": {
      "text/plain": "<Figure size 1000x500 with 0 Axes>"
     },
     "metadata": {},
     "output_type": "display_data"
    },
    {
     "data": {
      "text/plain": "<Figure size 1000x500 with 0 Axes>"
     },
     "metadata": {},
     "output_type": "display_data"
    },
    {
     "data": {
      "text/plain": "<Figure size 1000x500 with 0 Axes>"
     },
     "metadata": {},
     "output_type": "display_data"
    },
    {
     "data": {
      "text/plain": "<Figure size 1000x500 with 0 Axes>"
     },
     "metadata": {},
     "output_type": "display_data"
    },
    {
     "data": {
      "text/plain": "<Figure size 1000x500 with 0 Axes>"
     },
     "metadata": {},
     "output_type": "display_data"
    },
    {
     "data": {
      "text/plain": "<Figure size 1000x500 with 0 Axes>"
     },
     "metadata": {},
     "output_type": "display_data"
    },
    {
     "data": {
      "text/plain": "<Figure size 1000x500 with 0 Axes>"
     },
     "metadata": {},
     "output_type": "display_data"
    },
    {
     "data": {
      "text/plain": "<Figure size 1000x500 with 0 Axes>"
     },
     "metadata": {},
     "output_type": "display_data"
    },
    {
     "data": {
      "text/plain": "<Figure size 1000x500 with 0 Axes>"
     },
     "metadata": {},
     "output_type": "display_data"
    },
    {
     "data": {
      "text/plain": "<Figure size 1000x500 with 0 Axes>"
     },
     "metadata": {},
     "output_type": "display_data"
    },
    {
     "data": {
      "text/plain": "<Figure size 1000x500 with 0 Axes>"
     },
     "metadata": {},
     "output_type": "display_data"
    },
    {
     "data": {
      "text/plain": "<Figure size 1000x500 with 0 Axes>"
     },
     "metadata": {},
     "output_type": "display_data"
    },
    {
     "data": {
      "text/plain": "<Figure size 1000x500 with 0 Axes>"
     },
     "metadata": {},
     "output_type": "display_data"
    },
    {
     "data": {
      "text/plain": "<Figure size 1000x500 with 0 Axes>"
     },
     "metadata": {},
     "output_type": "display_data"
    },
    {
     "data": {
      "text/plain": "<Figure size 1000x500 with 0 Axes>"
     },
     "metadata": {},
     "output_type": "display_data"
    },
    {
     "data": {
      "text/plain": "<Figure size 1000x500 with 0 Axes>"
     },
     "metadata": {},
     "output_type": "display_data"
    },
    {
     "data": {
      "text/plain": "<Figure size 1000x500 with 0 Axes>"
     },
     "metadata": {},
     "output_type": "display_data"
    },
    {
     "data": {
      "text/plain": "<Figure size 1000x500 with 0 Axes>"
     },
     "metadata": {},
     "output_type": "display_data"
    },
    {
     "data": {
      "text/plain": "<Figure size 1000x500 with 0 Axes>"
     },
     "metadata": {},
     "output_type": "display_data"
    },
    {
     "data": {
      "text/plain": "<Figure size 1000x500 with 0 Axes>"
     },
     "metadata": {},
     "output_type": "display_data"
    },
    {
     "data": {
      "text/plain": "<Figure size 1000x500 with 0 Axes>"
     },
     "metadata": {},
     "output_type": "display_data"
    },
    {
     "data": {
      "text/plain": "<Figure size 1000x500 with 0 Axes>"
     },
     "metadata": {},
     "output_type": "display_data"
    },
    {
     "data": {
      "text/plain": "<Figure size 1000x500 with 0 Axes>"
     },
     "metadata": {},
     "output_type": "display_data"
    },
    {
     "data": {
      "text/plain": "<Figure size 1000x500 with 0 Axes>"
     },
     "metadata": {},
     "output_type": "display_data"
    },
    {
     "data": {
      "text/plain": "<Figure size 1000x500 with 0 Axes>"
     },
     "metadata": {},
     "output_type": "display_data"
    },
    {
     "data": {
      "text/plain": "<Figure size 1000x500 with 0 Axes>"
     },
     "metadata": {},
     "output_type": "display_data"
    },
    {
     "data": {
      "text/plain": "<Figure size 1000x500 with 0 Axes>"
     },
     "metadata": {},
     "output_type": "display_data"
    },
    {
     "data": {
      "text/plain": "<Figure size 1000x500 with 0 Axes>"
     },
     "metadata": {},
     "output_type": "display_data"
    },
    {
     "data": {
      "text/plain": "<Figure size 1000x500 with 0 Axes>"
     },
     "metadata": {},
     "output_type": "display_data"
    },
    {
     "data": {
      "text/plain": "<Figure size 1000x500 with 0 Axes>"
     },
     "metadata": {},
     "output_type": "display_data"
    },
    {
     "data": {
      "text/plain": "<Figure size 1000x500 with 0 Axes>"
     },
     "metadata": {},
     "output_type": "display_data"
    },
    {
     "data": {
      "text/plain": "<Figure size 1000x500 with 0 Axes>"
     },
     "metadata": {},
     "output_type": "display_data"
    },
    {
     "data": {
      "text/plain": "<Figure size 1000x500 with 0 Axes>"
     },
     "metadata": {},
     "output_type": "display_data"
    },
    {
     "data": {
      "text/plain": "<Figure size 1000x500 with 0 Axes>"
     },
     "metadata": {},
     "output_type": "display_data"
    },
    {
     "data": {
      "text/plain": "<Figure size 1000x500 with 0 Axes>"
     },
     "metadata": {},
     "output_type": "display_data"
    },
    {
     "data": {
      "text/plain": "<Figure size 1000x500 with 0 Axes>"
     },
     "metadata": {},
     "output_type": "display_data"
    },
    {
     "data": {
      "text/plain": "<Figure size 1000x500 with 0 Axes>"
     },
     "metadata": {},
     "output_type": "display_data"
    },
    {
     "data": {
      "text/plain": "<Figure size 1000x500 with 0 Axes>"
     },
     "metadata": {},
     "output_type": "display_data"
    },
    {
     "data": {
      "text/plain": "<Figure size 1000x500 with 0 Axes>"
     },
     "metadata": {},
     "output_type": "display_data"
    },
    {
     "data": {
      "text/plain": "<Figure size 1000x500 with 0 Axes>"
     },
     "metadata": {},
     "output_type": "display_data"
    },
    {
     "data": {
      "text/plain": "<Figure size 1000x500 with 0 Axes>"
     },
     "metadata": {},
     "output_type": "display_data"
    },
    {
     "data": {
      "text/plain": "<Figure size 1000x500 with 0 Axes>"
     },
     "metadata": {},
     "output_type": "display_data"
    },
    {
     "data": {
      "text/plain": "<Figure size 1000x500 with 0 Axes>"
     },
     "metadata": {},
     "output_type": "display_data"
    },
    {
     "data": {
      "text/plain": "<Figure size 1000x500 with 0 Axes>"
     },
     "metadata": {},
     "output_type": "display_data"
    },
    {
     "data": {
      "text/plain": "<Figure size 1000x500 with 0 Axes>"
     },
     "metadata": {},
     "output_type": "display_data"
    },
    {
     "data": {
      "text/plain": "<Figure size 1000x500 with 0 Axes>"
     },
     "metadata": {},
     "output_type": "display_data"
    },
    {
     "data": {
      "text/plain": "<Figure size 1000x500 with 0 Axes>"
     },
     "metadata": {},
     "output_type": "display_data"
    },
    {
     "data": {
      "text/plain": "<Figure size 1000x500 with 0 Axes>"
     },
     "metadata": {},
     "output_type": "display_data"
    },
    {
     "data": {
      "text/plain": "<Figure size 1000x500 with 0 Axes>"
     },
     "metadata": {},
     "output_type": "display_data"
    },
    {
     "data": {
      "text/plain": "<Figure size 1000x500 with 0 Axes>"
     },
     "metadata": {},
     "output_type": "display_data"
    },
    {
     "data": {
      "text/plain": "<Figure size 1000x500 with 0 Axes>"
     },
     "metadata": {},
     "output_type": "display_data"
    },
    {
     "data": {
      "text/plain": "<Figure size 1000x500 with 0 Axes>"
     },
     "metadata": {},
     "output_type": "display_data"
    },
    {
     "data": {
      "text/plain": "<Figure size 1000x500 with 0 Axes>"
     },
     "metadata": {},
     "output_type": "display_data"
    },
    {
     "data": {
      "text/plain": "<Figure size 1000x500 with 0 Axes>"
     },
     "metadata": {},
     "output_type": "display_data"
    },
    {
     "data": {
      "text/plain": "<Figure size 1000x500 with 0 Axes>"
     },
     "metadata": {},
     "output_type": "display_data"
    },
    {
     "data": {
      "text/plain": "<Figure size 1000x500 with 0 Axes>"
     },
     "metadata": {},
     "output_type": "display_data"
    },
    {
     "data": {
      "text/plain": "<Figure size 1000x500 with 0 Axes>"
     },
     "metadata": {},
     "output_type": "display_data"
    }
   ],
   "source": [
    "import matplotlib.pyplot as plt\n",
    "import numpy as np\n",
    "import math\n",
    "\n",
    "import os\n",
    "import glob\n",
    "\n",
    "\n",
    "import imageio\n",
    "\n",
    "populations = np.array([[0.25, 0.25, 0.25, 0.25],\n",
    "\t\t\t\t\t    [0.40, 0.30, 0.20, 0.10],\n",
    "\t\t\t\t\t    [1, 0, 0, 0]])\n",
    "\n",
    "label = [0.5, 1, 1.5, 2]\n",
    "\n",
    "frames = 50\n",
    "frameCounter = [1]\n",
    "\n",
    "def remove_files_in_folder(folder_path):\n",
    "    file_pattern = os.path.join(folder_path, \"*\")\n",
    "    files = glob.glob(file_pattern)\n",
    "    \n",
    "    for file_path in files:\n",
    "        if os.path.isfile(file_path):\n",
    "            try:\n",
    "                os.remove(file_path)\n",
    "                print(f\"Removed: {file_path}\")\n",
    "            except Exception as e:\n",
    "                print(f\"Error removing {file_path}: {e}\")\n",
    "\n",
    "def generate_distribution_steps(start, stop, frames, include_last):\n",
    "    dif = (stop - start)/(frames-1)\n",
    "\n",
    "    res = []\n",
    "    res.append(start.tolist())\n",
    "\n",
    "    state = start\n",
    "    \n",
    "    for i in range(frames-2):\n",
    "        state += dif\n",
    "        res.append(state.tolist())\n",
    "    if include_last :    \n",
    "        res.append(stop.tolist())    \n",
    "    return res\n",
    "\n",
    "def shannon_entropy(distribution):\n",
    "\tsum = 0\n",
    "\tfor i in distribution:\n",
    "\t\tif i > 0:\n",
    "\t\t\tsum -= i*math.log(i)\n",
    "\treturn(sum)\n",
    "\n",
    "shannon_entropies = []\n",
    "\n",
    "def generate_bar_chart(distributions, frameCounter, shannon_entropies):\n",
    "    for distribution in distributions:\n",
    "        plt.figure(figsize=(10, 5))\n",
    "\n",
    "        colors = ['#b2b2f9', '#f9b2ee', '#bef9b2', '#f9d7b2']\n",
    "        plt.subplot(1, 2, 1)\n",
    "        plt.xlim(0, 2.5)\n",
    "        plt.ylim(0, 1)\n",
    "        plt.bar(label, distribution, width=0.45, color = colors)\n",
    "        plt.title(f'Distribution - Bar Chart')\n",
    "        plt.xticks([])\n",
    "\n",
    "        \n",
    "      \n",
    "        plt.subplot(1, 2, 2)\n",
    "        plt.xlim(0, 100)\n",
    "        plt.ylim(0, 2)\n",
    "        shannon_entropies.append(shannon_entropy(distribution))\n",
    "        plt.plot(range(1, len(shannon_entropies) + 1), shannon_entropies)\n",
    "        plt.title(f'Shannon Entropy')\n",
    "        plt.ylabel('Shannon Entropy')\n",
    "        plt.xlabel('Time')\n",
    "        plt.xticks([])\n",
    "        \n",
    "        plt.savefig(f'anim/pic{frameCounter[0]:0{4}d}.png')\n",
    "        plt.clf()\n",
    "        \n",
    "        frameCounter[0] += 1\n",
    "        \n",
    "         \n",
    "\n",
    "def create_gif_from_folder(folder_path, output_filename='output.gif', duration=0.5):\n",
    "    pic_files = [f for f in os.listdir(folder_path) if f.endswith(('.png'))]\n",
    "    pic_files.sort() \n",
    "\n",
    "    images = []\n",
    "    for filename in pic_files:\n",
    "        file_path = os.path.join(folder_path, filename)\n",
    "        images.append(imageio.imread(file_path))\n",
    "\n",
    "    # Create the GIF\n",
    "    output_path = os.path.join(folder_path, output_filename)\n",
    "    imageio.mimsave(output_path, images, duration=duration, loop=0)\n",
    "\n",
    "    print(f\"GIF created at {output_path}\")\n",
    "\n",
    "\n",
    "folder_path = \"/home/nikita/Workspace/DiversityMeasures/anim\"\n",
    "remove_files_in_folder(folder_path)\n",
    "\n",
    "\n",
    "generate_bar_chart(generate_distribution_steps(populations[0], populations[1], 25, False), frameCounter, shannon_entropies)\n",
    "\n",
    "generate_bar_chart(generate_distribution_steps(populations[1], populations[2], 50, True), frameCounter, shannon_entropies)\n",
    "\n"
   ]
  },
  {
   "cell_type": "code",
   "execution_count": 13,
   "metadata": {
    "collapsed": false,
    "ExecuteTime": {
     "end_time": "2024-03-25T20:47:51.817696Z",
     "start_time": "2024-03-25T20:47:44.068759Z"
    }
   },
   "outputs": [
    {
     "name": "stdout",
     "output_type": "stream",
     "text": [
      "Removed: /home/nikita/Workspace/DiversityMeasures/anim2/pic0027.png\n",
      "Removed: /home/nikita/Workspace/DiversityMeasures/anim2/pic0009.png\n",
      "Removed: /home/nikita/Workspace/DiversityMeasures/anim2/pic0059.png\n",
      "Removed: /home/nikita/Workspace/DiversityMeasures/anim2/pic0040.png\n",
      "Removed: /home/nikita/Workspace/DiversityMeasures/anim2/pic0063.png\n",
      "Removed: /home/nikita/Workspace/DiversityMeasures/anim2/pic0013.png\n",
      "Removed: /home/nikita/Workspace/DiversityMeasures/anim2/pic0024.png\n",
      "Removed: /home/nikita/Workspace/DiversityMeasures/anim2/pic0062.png\n",
      "Removed: /home/nikita/Workspace/DiversityMeasures/anim2/pic0065.png\n",
      "Removed: /home/nikita/Workspace/DiversityMeasures/anim2/pic0053.png\n",
      "Removed: /home/nikita/Workspace/DiversityMeasures/anim2/pic0036.png\n",
      "Removed: /home/nikita/Workspace/DiversityMeasures/anim2/pic0004.png\n",
      "Removed: /home/nikita/Workspace/DiversityMeasures/anim2/my_gif.gif\n",
      "Removed: /home/nikita/Workspace/DiversityMeasures/anim2/pic0021.png\n",
      "Removed: /home/nikita/Workspace/DiversityMeasures/anim2/pic0048.png\n",
      "Removed: /home/nikita/Workspace/DiversityMeasures/anim2/pic0003.png\n",
      "Removed: /home/nikita/Workspace/DiversityMeasures/anim2/pic0034.png\n",
      "Removed: /home/nikita/Workspace/DiversityMeasures/anim2/pic0002.png\n",
      "Removed: /home/nikita/Workspace/DiversityMeasures/anim2/pic0011.png\n",
      "Removed: /home/nikita/Workspace/DiversityMeasures/anim2/pic0058.png\n",
      "Removed: /home/nikita/Workspace/DiversityMeasures/anim2/pic0006.png\n",
      "Removed: /home/nikita/Workspace/DiversityMeasures/anim2/pic0043.png\n",
      "Removed: /home/nikita/Workspace/DiversityMeasures/anim2/pic0042.png\n",
      "Removed: /home/nikita/Workspace/DiversityMeasures/anim2/pic0005.png\n",
      "Removed: /home/nikita/Workspace/DiversityMeasures/anim2/pic0007.png\n",
      "Removed: /home/nikita/Workspace/DiversityMeasures/anim2/pic0001.png\n",
      "Removed: /home/nikita/Workspace/DiversityMeasures/anim2/pic0041.png\n",
      "Removed: /home/nikita/Workspace/DiversityMeasures/anim2/pic0045.png\n",
      "Removed: /home/nikita/Workspace/DiversityMeasures/anim2/pic0049.png\n",
      "Removed: /home/nikita/Workspace/DiversityMeasures/anim2/pic0015.png\n",
      "Removed: /home/nikita/Workspace/DiversityMeasures/anim2/pic0067.png\n",
      "Removed: /home/nikita/Workspace/DiversityMeasures/anim2/pic0028.png\n",
      "Removed: /home/nikita/Workspace/DiversityMeasures/anim2/pic0056.png\n",
      "Removed: /home/nikita/Workspace/DiversityMeasures/anim2/pic0017.png\n",
      "Removed: /home/nikita/Workspace/DiversityMeasures/anim2/pic0046.png\n",
      "Removed: /home/nikita/Workspace/DiversityMeasures/anim2/pic0030.png\n",
      "Removed: /home/nikita/Workspace/DiversityMeasures/anim2/pic0061.png\n",
      "Removed: /home/nikita/Workspace/DiversityMeasures/anim2/pic0033.png\n",
      "Removed: /home/nikita/Workspace/DiversityMeasures/anim2/pic0054.png\n",
      "Removed: /home/nikita/Workspace/DiversityMeasures/anim2/pic0057.png\n",
      "Removed: /home/nikita/Workspace/DiversityMeasures/anim2/pic0035.png\n",
      "Removed: /home/nikita/Workspace/DiversityMeasures/anim2/pic0066.png\n",
      "Removed: /home/nikita/Workspace/DiversityMeasures/anim2/pic0073.png\n",
      "Removed: /home/nikita/Workspace/DiversityMeasures/anim2/pic0064.png\n",
      "Removed: /home/nikita/Workspace/DiversityMeasures/anim2/pic0014.png\n",
      "Removed: /home/nikita/Workspace/DiversityMeasures/anim2/pic0008.png\n",
      "Removed: /home/nikita/Workspace/DiversityMeasures/anim2/pic0026.png\n",
      "Removed: /home/nikita/Workspace/DiversityMeasures/anim2/pic0022.png\n",
      "Removed: /home/nikita/Workspace/DiversityMeasures/anim2/pic0069.png\n",
      "Removed: /home/nikita/Workspace/DiversityMeasures/anim2/pic0032.png\n",
      "Removed: /home/nikita/Workspace/DiversityMeasures/anim2/pic0051.png\n",
      "Removed: /home/nikita/Workspace/DiversityMeasures/anim2/pic0070.png\n",
      "Removed: /home/nikita/Workspace/DiversityMeasures/anim2/pic0071.png\n",
      "Removed: /home/nikita/Workspace/DiversityMeasures/anim2/pic0012.png\n",
      "Removed: /home/nikita/Workspace/DiversityMeasures/anim2/pic0047.png\n",
      "Removed: /home/nikita/Workspace/DiversityMeasures/anim2/pic0023.png\n",
      "Removed: /home/nikita/Workspace/DiversityMeasures/anim2/pic0052.png\n",
      "Removed: /home/nikita/Workspace/DiversityMeasures/anim2/pic0068.png\n",
      "Removed: /home/nikita/Workspace/DiversityMeasures/anim2/pic0050.png\n",
      "Removed: /home/nikita/Workspace/DiversityMeasures/anim2/pic0074.png\n",
      "Removed: /home/nikita/Workspace/DiversityMeasures/anim2/pic0038.png\n",
      "Removed: /home/nikita/Workspace/DiversityMeasures/anim2/pic0025.png\n",
      "Removed: /home/nikita/Workspace/DiversityMeasures/anim2/pic0010.png\n",
      "Removed: /home/nikita/Workspace/DiversityMeasures/anim2/pic0055.png\n",
      "Removed: /home/nikita/Workspace/DiversityMeasures/anim2/pic0031.png\n",
      "Removed: /home/nikita/Workspace/DiversityMeasures/anim2/pic0039.png\n",
      "Removed: /home/nikita/Workspace/DiversityMeasures/anim2/pic0044.png\n",
      "Removed: /home/nikita/Workspace/DiversityMeasures/anim2/pic0029.png\n",
      "Removed: /home/nikita/Workspace/DiversityMeasures/anim2/pic0018.png\n",
      "Removed: /home/nikita/Workspace/DiversityMeasures/anim2/pic0016.png\n",
      "Removed: /home/nikita/Workspace/DiversityMeasures/anim2/pic0019.png\n",
      "Removed: /home/nikita/Workspace/DiversityMeasures/anim2/pic0072.png\n",
      "Removed: /home/nikita/Workspace/DiversityMeasures/anim2/pic0020.png\n",
      "Removed: /home/nikita/Workspace/DiversityMeasures/anim2/pic0060.png\n",
      "Removed: /home/nikita/Workspace/DiversityMeasures/anim2/pic0037.png\n"
     ]
    },
    {
     "name": "stderr",
     "output_type": "stream",
     "text": [
      "/tmp/ipykernel_213757/3809265999.py:16: RuntimeWarning: More than 20 figures have been opened. Figures created through the pyplot interface (`matplotlib.pyplot.figure`) are retained until explicitly closed and may consume too much memory. (To control this warning, see the rcParam `figure.max_open_warning`). Consider using `matplotlib.pyplot.close()`.\n",
      "  plt.figure(figsize=(10, 5))\n",
      "/tmp/ipykernel_213757/475914386.py:94: DeprecationWarning: Starting with ImageIO v3 the behavior of this function will switch to that of iio.v3.imread. To keep the current behavior (and make this warning disappear) use `import imageio.v2 as imageio` or call `imageio.v2.imread` directly.\n",
      "  images.append(imageio.imread(file_path))\n"
     ]
    },
    {
     "name": "stdout",
     "output_type": "stream",
     "text": [
      "GIF created at /home/nikita/Workspace/DiversityMeasures/anim2/my_gif.gif\n"
     ]
    },
    {
     "data": {
      "text/plain": "<Figure size 1000x500 with 0 Axes>"
     },
     "metadata": {},
     "output_type": "display_data"
    },
    {
     "data": {
      "text/plain": "<Figure size 1000x500 with 0 Axes>"
     },
     "metadata": {},
     "output_type": "display_data"
    },
    {
     "data": {
      "text/plain": "<Figure size 1000x500 with 0 Axes>"
     },
     "metadata": {},
     "output_type": "display_data"
    },
    {
     "data": {
      "text/plain": "<Figure size 1000x500 with 0 Axes>"
     },
     "metadata": {},
     "output_type": "display_data"
    },
    {
     "data": {
      "text/plain": "<Figure size 1000x500 with 0 Axes>"
     },
     "metadata": {},
     "output_type": "display_data"
    },
    {
     "data": {
      "text/plain": "<Figure size 1000x500 with 0 Axes>"
     },
     "metadata": {},
     "output_type": "display_data"
    },
    {
     "data": {
      "text/plain": "<Figure size 1000x500 with 0 Axes>"
     },
     "metadata": {},
     "output_type": "display_data"
    },
    {
     "data": {
      "text/plain": "<Figure size 1000x500 with 0 Axes>"
     },
     "metadata": {},
     "output_type": "display_data"
    },
    {
     "data": {
      "text/plain": "<Figure size 1000x500 with 0 Axes>"
     },
     "metadata": {},
     "output_type": "display_data"
    },
    {
     "data": {
      "text/plain": "<Figure size 1000x500 with 0 Axes>"
     },
     "metadata": {},
     "output_type": "display_data"
    },
    {
     "data": {
      "text/plain": "<Figure size 1000x500 with 0 Axes>"
     },
     "metadata": {},
     "output_type": "display_data"
    },
    {
     "data": {
      "text/plain": "<Figure size 1000x500 with 0 Axes>"
     },
     "metadata": {},
     "output_type": "display_data"
    },
    {
     "data": {
      "text/plain": "<Figure size 1000x500 with 0 Axes>"
     },
     "metadata": {},
     "output_type": "display_data"
    },
    {
     "data": {
      "text/plain": "<Figure size 1000x500 with 0 Axes>"
     },
     "metadata": {},
     "output_type": "display_data"
    },
    {
     "data": {
      "text/plain": "<Figure size 1000x500 with 0 Axes>"
     },
     "metadata": {},
     "output_type": "display_data"
    },
    {
     "data": {
      "text/plain": "<Figure size 1000x500 with 0 Axes>"
     },
     "metadata": {},
     "output_type": "display_data"
    },
    {
     "data": {
      "text/plain": "<Figure size 1000x500 with 0 Axes>"
     },
     "metadata": {},
     "output_type": "display_data"
    },
    {
     "data": {
      "text/plain": "<Figure size 1000x500 with 0 Axes>"
     },
     "metadata": {},
     "output_type": "display_data"
    },
    {
     "data": {
      "text/plain": "<Figure size 1000x500 with 0 Axes>"
     },
     "metadata": {},
     "output_type": "display_data"
    },
    {
     "data": {
      "text/plain": "<Figure size 1000x500 with 0 Axes>"
     },
     "metadata": {},
     "output_type": "display_data"
    },
    {
     "data": {
      "text/plain": "<Figure size 1000x500 with 0 Axes>"
     },
     "metadata": {},
     "output_type": "display_data"
    },
    {
     "data": {
      "text/plain": "<Figure size 1000x500 with 0 Axes>"
     },
     "metadata": {},
     "output_type": "display_data"
    },
    {
     "data": {
      "text/plain": "<Figure size 1000x500 with 0 Axes>"
     },
     "metadata": {},
     "output_type": "display_data"
    },
    {
     "data": {
      "text/plain": "<Figure size 1000x500 with 0 Axes>"
     },
     "metadata": {},
     "output_type": "display_data"
    },
    {
     "data": {
      "text/plain": "<Figure size 1000x500 with 0 Axes>"
     },
     "metadata": {},
     "output_type": "display_data"
    },
    {
     "data": {
      "text/plain": "<Figure size 1000x500 with 0 Axes>"
     },
     "metadata": {},
     "output_type": "display_data"
    },
    {
     "data": {
      "text/plain": "<Figure size 1000x500 with 0 Axes>"
     },
     "metadata": {},
     "output_type": "display_data"
    },
    {
     "data": {
      "text/plain": "<Figure size 1000x500 with 0 Axes>"
     },
     "metadata": {},
     "output_type": "display_data"
    },
    {
     "data": {
      "text/plain": "<Figure size 1000x500 with 0 Axes>"
     },
     "metadata": {},
     "output_type": "display_data"
    },
    {
     "data": {
      "text/plain": "<Figure size 1000x500 with 0 Axes>"
     },
     "metadata": {},
     "output_type": "display_data"
    },
    {
     "data": {
      "text/plain": "<Figure size 1000x500 with 0 Axes>"
     },
     "metadata": {},
     "output_type": "display_data"
    },
    {
     "data": {
      "text/plain": "<Figure size 1000x500 with 0 Axes>"
     },
     "metadata": {},
     "output_type": "display_data"
    },
    {
     "data": {
      "text/plain": "<Figure size 1000x500 with 0 Axes>"
     },
     "metadata": {},
     "output_type": "display_data"
    },
    {
     "data": {
      "text/plain": "<Figure size 1000x500 with 0 Axes>"
     },
     "metadata": {},
     "output_type": "display_data"
    },
    {
     "data": {
      "text/plain": "<Figure size 1000x500 with 0 Axes>"
     },
     "metadata": {},
     "output_type": "display_data"
    },
    {
     "data": {
      "text/plain": "<Figure size 1000x500 with 0 Axes>"
     },
     "metadata": {},
     "output_type": "display_data"
    },
    {
     "data": {
      "text/plain": "<Figure size 1000x500 with 0 Axes>"
     },
     "metadata": {},
     "output_type": "display_data"
    },
    {
     "data": {
      "text/plain": "<Figure size 1000x500 with 0 Axes>"
     },
     "metadata": {},
     "output_type": "display_data"
    },
    {
     "data": {
      "text/plain": "<Figure size 1000x500 with 0 Axes>"
     },
     "metadata": {},
     "output_type": "display_data"
    },
    {
     "data": {
      "text/plain": "<Figure size 1000x500 with 0 Axes>"
     },
     "metadata": {},
     "output_type": "display_data"
    },
    {
     "data": {
      "text/plain": "<Figure size 1000x500 with 0 Axes>"
     },
     "metadata": {},
     "output_type": "display_data"
    },
    {
     "data": {
      "text/plain": "<Figure size 1000x500 with 0 Axes>"
     },
     "metadata": {},
     "output_type": "display_data"
    },
    {
     "data": {
      "text/plain": "<Figure size 1000x500 with 0 Axes>"
     },
     "metadata": {},
     "output_type": "display_data"
    },
    {
     "data": {
      "text/plain": "<Figure size 1000x500 with 0 Axes>"
     },
     "metadata": {},
     "output_type": "display_data"
    },
    {
     "data": {
      "text/plain": "<Figure size 1000x500 with 0 Axes>"
     },
     "metadata": {},
     "output_type": "display_data"
    },
    {
     "data": {
      "text/plain": "<Figure size 1000x500 with 0 Axes>"
     },
     "metadata": {},
     "output_type": "display_data"
    },
    {
     "data": {
      "text/plain": "<Figure size 1000x500 with 0 Axes>"
     },
     "metadata": {},
     "output_type": "display_data"
    },
    {
     "data": {
      "text/plain": "<Figure size 1000x500 with 0 Axes>"
     },
     "metadata": {},
     "output_type": "display_data"
    },
    {
     "data": {
      "text/plain": "<Figure size 1000x500 with 0 Axes>"
     },
     "metadata": {},
     "output_type": "display_data"
    },
    {
     "data": {
      "text/plain": "<Figure size 1000x500 with 0 Axes>"
     },
     "metadata": {},
     "output_type": "display_data"
    },
    {
     "data": {
      "text/plain": "<Figure size 1000x500 with 0 Axes>"
     },
     "metadata": {},
     "output_type": "display_data"
    },
    {
     "data": {
      "text/plain": "<Figure size 1000x500 with 0 Axes>"
     },
     "metadata": {},
     "output_type": "display_data"
    },
    {
     "data": {
      "text/plain": "<Figure size 1000x500 with 0 Axes>"
     },
     "metadata": {},
     "output_type": "display_data"
    },
    {
     "data": {
      "text/plain": "<Figure size 1000x500 with 0 Axes>"
     },
     "metadata": {},
     "output_type": "display_data"
    },
    {
     "data": {
      "text/plain": "<Figure size 1000x500 with 0 Axes>"
     },
     "metadata": {},
     "output_type": "display_data"
    },
    {
     "data": {
      "text/plain": "<Figure size 1000x500 with 0 Axes>"
     },
     "metadata": {},
     "output_type": "display_data"
    },
    {
     "data": {
      "text/plain": "<Figure size 1000x500 with 0 Axes>"
     },
     "metadata": {},
     "output_type": "display_data"
    },
    {
     "data": {
      "text/plain": "<Figure size 1000x500 with 0 Axes>"
     },
     "metadata": {},
     "output_type": "display_data"
    },
    {
     "data": {
      "text/plain": "<Figure size 1000x500 with 0 Axes>"
     },
     "metadata": {},
     "output_type": "display_data"
    },
    {
     "data": {
      "text/plain": "<Figure size 1000x500 with 0 Axes>"
     },
     "metadata": {},
     "output_type": "display_data"
    },
    {
     "data": {
      "text/plain": "<Figure size 1000x500 with 0 Axes>"
     },
     "metadata": {},
     "output_type": "display_data"
    },
    {
     "data": {
      "text/plain": "<Figure size 1000x500 with 0 Axes>"
     },
     "metadata": {},
     "output_type": "display_data"
    },
    {
     "data": {
      "text/plain": "<Figure size 1000x500 with 0 Axes>"
     },
     "metadata": {},
     "output_type": "display_data"
    },
    {
     "data": {
      "text/plain": "<Figure size 1000x500 with 0 Axes>"
     },
     "metadata": {},
     "output_type": "display_data"
    },
    {
     "data": {
      "text/plain": "<Figure size 1000x500 with 0 Axes>"
     },
     "metadata": {},
     "output_type": "display_data"
    },
    {
     "data": {
      "text/plain": "<Figure size 1000x500 with 0 Axes>"
     },
     "metadata": {},
     "output_type": "display_data"
    },
    {
     "data": {
      "text/plain": "<Figure size 1000x500 with 0 Axes>"
     },
     "metadata": {},
     "output_type": "display_data"
    },
    {
     "data": {
      "text/plain": "<Figure size 1000x500 with 0 Axes>"
     },
     "metadata": {},
     "output_type": "display_data"
    },
    {
     "data": {
      "text/plain": "<Figure size 1000x500 with 0 Axes>"
     },
     "metadata": {},
     "output_type": "display_data"
    },
    {
     "data": {
      "text/plain": "<Figure size 1000x500 with 0 Axes>"
     },
     "metadata": {},
     "output_type": "display_data"
    },
    {
     "data": {
      "text/plain": "<Figure size 1000x500 with 0 Axes>"
     },
     "metadata": {},
     "output_type": "display_data"
    },
    {
     "data": {
      "text/plain": "<Figure size 1000x500 with 0 Axes>"
     },
     "metadata": {},
     "output_type": "display_data"
    },
    {
     "data": {
      "text/plain": "<Figure size 1000x500 with 0 Axes>"
     },
     "metadata": {},
     "output_type": "display_data"
    },
    {
     "data": {
      "text/plain": "<Figure size 1000x500 with 0 Axes>"
     },
     "metadata": {},
     "output_type": "display_data"
    }
   ],
   "source": [
    "def diversityProfile(distribution, qs):\n",
    "    p = np.array(distribution)\n",
    "    support_p = p[p != 0]\n",
    "\n",
    "    profile = []\n",
    "\n",
    "    for q in qs:\n",
    "        c = 1/(1-q)\n",
    "        profile.append(np.sum(support_p**q)**c)\n",
    "    return np.array(profile)\n",
    "\n",
    "\n",
    "\n",
    "def generate_b_chart(distributions, frameCounter, shannon_entropies):\n",
    "    for distribution in distributions:\n",
    "        plt.figure(figsize=(10, 5))\n",
    "\n",
    "        colors = ['#b2b2f9', '#f9b2ee', '#bef9b2', '#f9d7b2']\n",
    "        plt.subplot(1, 2, 1)\n",
    "        plt.xlim(0, 2.5)\n",
    "        plt.ylim(0, 1)\n",
    "        plt.bar(label, distribution, width=0.45, color = colors)\n",
    "        plt.title(f'Distribution - Bar Chart')\n",
    "        plt.xticks([])\n",
    "\n",
    "        qs = np.linspace(0, 10, 140)\n",
    "        profile = diversityProfile(distribution, qs)\n",
    "        plt.subplot(1, 2, 2)\n",
    "        plt.ylim(0, 4.5)\n",
    "        plt.plot(qs, profile)\n",
    "        plt.title(f'Diversity Profile')\n",
    "        plt.ylabel('Diversity')\n",
    "        plt.xlabel('q value')\n",
    "        \n",
    "        plt.savefig(f'anim2/pic{frameCounter[0]:0{4}d}.png')\n",
    "        plt.clf()\n",
    "        \n",
    "        frameCounter[0] += 1\n",
    "\n",
    "currentPath = os.path.abspath(os.getcwd())\n",
    "folder_path = currentPath + '/anim2/'\n",
    "remove_files_in_folder(folder_path)\n",
    "\n",
    "frameCounter = [1]\n",
    "populations = np.array([[0.25, 0.25, 0.25, 0.25],\n",
    "\t\t\t\t\t    [0.40, 0.30, 0.20, 0.10],\n",
    "\t\t\t\t\t    [1, 0, 0, 0]])\n",
    "generate_b_chart(generate_distribution_steps(populations[0], populations[1], 25, True), frameCounter, shannon_entropies)\n",
    "generate_b_chart(generate_distribution_steps(populations[1], populations[2], 50, False), frameCounter, shannon_entropies)\n",
    "\n",
    "create_gif_from_folder(folder_path, 'my_gif.gif', 0.8)"
   ]
  },
  {
   "cell_type": "code",
   "execution_count": 7,
   "metadata": {
    "ExecuteTime": {
     "end_time": "2024-03-25T20:40:20.003819Z",
     "start_time": "2024-03-25T20:40:20.002326Z"
    }
   },
   "outputs": [],
   "source": []
  },
  {
   "cell_type": "code",
   "execution_count": 4,
   "metadata": {
    "ExecuteTime": {
     "end_time": "2024-03-25T20:38:39.123555Z",
     "start_time": "2024-03-25T20:38:39.120865Z"
    }
   },
   "outputs": [
    {
     "data": {
      "text/plain": "'/home/nikita/Workspace/DiversityMeasures'"
     },
     "execution_count": 4,
     "metadata": {},
     "output_type": "execute_result"
    }
   ],
   "source": [
    "import os\n",
    "os.path.abspath(os.getcwd())\n"
   ]
  },
  {
   "cell_type": "markdown",
   "source": [],
   "metadata": {
    "collapsed": false
   }
  }
 ],
 "metadata": {
  "kernelspec": {
   "display_name": "Python 3",
   "language": "python",
   "name": "python3"
  },
  "language_info": {
   "name": "python",
   "version": "3.11.7"
  }
 },
 "nbformat": 4,
 "nbformat_minor": 2
}
