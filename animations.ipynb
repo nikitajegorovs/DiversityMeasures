{
 "cells": [
  {
   "cell_type": "code",
   "execution_count": 13,
   "metadata": {
    "ExecuteTime": {
     "end_time": "2024-03-19T21:22:04.708173530Z",
     "start_time": "2024-03-19T21:21:59.919873354Z"
    }
   },
   "outputs": [
    {
     "name": "stdout",
     "output_type": "stream",
     "text": [
      "Removed: /home/nikita/Workspace/DiversityMeasures/anim/pic0027.png\n",
      "Removed: /home/nikita/Workspace/DiversityMeasures/anim/pic0009.png\n",
      "Removed: /home/nikita/Workspace/DiversityMeasures/anim/pic0040.png\n",
      "Removed: /home/nikita/Workspace/DiversityMeasures/anim/pic0013.png\n",
      "Removed: /home/nikita/Workspace/DiversityMeasures/anim/pic0024.png\n",
      "Removed: /home/nikita/Workspace/DiversityMeasures/anim/pic0036.png\n",
      "Removed: /home/nikita/Workspace/DiversityMeasures/anim/pic0004.png\n",
      "Removed: /home/nikita/Workspace/DiversityMeasures/anim/my_gif.gif\n",
      "Removed: /home/nikita/Workspace/DiversityMeasures/anim/pic0021.png\n",
      "Removed: /home/nikita/Workspace/DiversityMeasures/anim/pic0048.png\n",
      "Removed: /home/nikita/Workspace/DiversityMeasures/anim/pic0003.png\n",
      "Removed: /home/nikita/Workspace/DiversityMeasures/anim/pic0034.png\n",
      "Removed: /home/nikita/Workspace/DiversityMeasures/anim/pic0002.png\n",
      "Removed: /home/nikita/Workspace/DiversityMeasures/anim/pic0011.png\n",
      "Removed: /home/nikita/Workspace/DiversityMeasures/anim/pic0006.png\n",
      "Removed: /home/nikita/Workspace/DiversityMeasures/anim/pic0043.png\n",
      "Removed: /home/nikita/Workspace/DiversityMeasures/anim/pic0042.png\n",
      "Removed: /home/nikita/Workspace/DiversityMeasures/anim/pic0005.png\n",
      "Removed: /home/nikita/Workspace/DiversityMeasures/anim/pic0007.png\n",
      "Removed: /home/nikita/Workspace/DiversityMeasures/anim/pic0001.png\n",
      "Removed: /home/nikita/Workspace/DiversityMeasures/anim/pic0041.png\n",
      "Removed: /home/nikita/Workspace/DiversityMeasures/anim/pic0045.png\n",
      "Removed: /home/nikita/Workspace/DiversityMeasures/anim/pic0049.png\n",
      "Removed: /home/nikita/Workspace/DiversityMeasures/anim/pic0015.png\n",
      "Removed: /home/nikita/Workspace/DiversityMeasures/anim/pic0028.png\n",
      "Removed: /home/nikita/Workspace/DiversityMeasures/anim/pic0017.png\n",
      "Removed: /home/nikita/Workspace/DiversityMeasures/anim/pic0046.png\n",
      "Removed: /home/nikita/Workspace/DiversityMeasures/anim/pic0030.png\n",
      "Removed: /home/nikita/Workspace/DiversityMeasures/anim/pic0033.png\n",
      "Removed: /home/nikita/Workspace/DiversityMeasures/anim/pic0035.png\n",
      "Removed: /home/nikita/Workspace/DiversityMeasures/anim/pic0014.png\n",
      "Removed: /home/nikita/Workspace/DiversityMeasures/anim/pic0008.png\n",
      "Removed: /home/nikita/Workspace/DiversityMeasures/anim/pic0026.png\n",
      "Removed: /home/nikita/Workspace/DiversityMeasures/anim/pic0022.png\n",
      "Removed: /home/nikita/Workspace/DiversityMeasures/anim/pic0032.png\n",
      "Removed: /home/nikita/Workspace/DiversityMeasures/anim/pic0012.png\n",
      "Removed: /home/nikita/Workspace/DiversityMeasures/anim/pic0047.png\n",
      "Removed: /home/nikita/Workspace/DiversityMeasures/anim/pic0023.png\n",
      "Removed: /home/nikita/Workspace/DiversityMeasures/anim/pic0050.png\n",
      "Removed: /home/nikita/Workspace/DiversityMeasures/anim/pic0038.png\n",
      "Removed: /home/nikita/Workspace/DiversityMeasures/anim/pic0025.png\n",
      "Removed: /home/nikita/Workspace/DiversityMeasures/anim/pic0010.png\n",
      "Removed: /home/nikita/Workspace/DiversityMeasures/anim/pic0031.png\n",
      "Removed: /home/nikita/Workspace/DiversityMeasures/anim/pic0039.png\n",
      "Removed: /home/nikita/Workspace/DiversityMeasures/anim/pic0044.png\n",
      "Removed: /home/nikita/Workspace/DiversityMeasures/anim/pic0029.png\n",
      "Removed: /home/nikita/Workspace/DiversityMeasures/anim/pic0018.png\n",
      "Removed: /home/nikita/Workspace/DiversityMeasures/anim/pic0016.png\n",
      "Removed: /home/nikita/Workspace/DiversityMeasures/anim/pic0019.png\n",
      "Removed: /home/nikita/Workspace/DiversityMeasures/anim/pic0020.png\n",
      "Removed: /home/nikita/Workspace/DiversityMeasures/anim/pic0037.png\n"
     ]
    },
    {
     "name": "stderr",
     "output_type": "stream",
     "text": [
      "/tmp/ipykernel_107870/1042587911.py:62: DeprecationWarning: Starting with ImageIO v3 the behavior of this function will switch to that of iio.v3.imread. To keep the current behavior (and make this warning disappear) use `import imageio.v2 as imageio` or call `imageio.v2.imread` directly.\n",
      "  images.append(imageio.imread(file_path))\n"
     ]
    },
    {
     "name": "stdout",
     "output_type": "stream",
     "text": [
      "GIF created at /home/nikita/Workspace/DiversityMeasures/anim/my_gif.gif\n"
     ]
    },
    {
     "data": {
      "text/plain": "<Figure size 640x480 with 0 Axes>"
     },
     "metadata": {},
     "output_type": "display_data"
    }
   ],
   "source": [
    "import matplotlib.pyplot as plt\n",
    "import numpy as np\n",
    "\n",
    "import os\n",
    "import glob\n",
    "\n",
    "import imageio\n",
    "\n",
    "populations = np.array([[0.25, 0.25, 0.25, 0.25],\n",
    "\t\t\t\t\t    [0.50, 0.30, 0.20, 0.10],\n",
    "\t\t\t\t\t    [1, 0, 0, 0]])\n",
    "\n",
    "label = [0.5, 1, 1.5, 2]\n",
    "\n",
    "frames = 50\n",
    "frameCounter = 1\n",
    "\n",
    "def remove_files_in_folder(folder_path):\n",
    "    file_pattern = os.path.join(folder_path, \"*\")\n",
    "    files = glob.glob(file_pattern)\n",
    "    \n",
    "    for file_path in files:\n",
    "        if os.path.isfile(file_path):\n",
    "            try:\n",
    "                os.remove(file_path)\n",
    "                print(f\"Removed: {file_path}\")\n",
    "            except Exception as e:\n",
    "                print(f\"Error removing {file_path}: {e}\")\n",
    "\n",
    "def generate_distribution_steps(start, stop, frames):\n",
    "    dif = (stop - start)/(frames-1)\n",
    "\n",
    "    res = []\n",
    "    res.append(start.tolist())\n",
    "\n",
    "    state = start\n",
    "    \n",
    "    for i in range(frames-1):\n",
    "        state += dif\n",
    "        res.append(state.tolist())\n",
    "    return res\n",
    "\n",
    "def generate_bar_chart(distributions, frameCounter):\n",
    "    for i in distributions:\n",
    "        plt.xlim(0, 3)\n",
    "        plt.ylim(0, 1)\n",
    "        \n",
    "        # Plotting graph\n",
    "        plt.bar(label, i, width=0.45)\n",
    "        plt.savefig(f'anim/pic{frameCounter:0{4}d}.png')\n",
    "        plt.clf()\n",
    "\n",
    "        frameCounter += 1\n",
    "\n",
    "def create_gif_from_folder(folder_path, output_filename='output.gif', duration=0.5):\n",
    "    pic_files = [f for f in os.listdir(folder_path) if f.endswith(('.png'))]\n",
    "    pic_files.sort() \n",
    "\n",
    "    images = []\n",
    "    for filename in pic_files:\n",
    "        file_path = os.path.join(folder_path, filename)\n",
    "        images.append(imageio.imread(file_path))\n",
    "\n",
    "    # Create the GIF\n",
    "    output_path = os.path.join(folder_path, output_filename)\n",
    "    imageio.mimsave(output_path, images, duration=duration)\n",
    "\n",
    "    print(f\"GIF created at {output_path}\")\n",
    "\n",
    "\n",
    "folder_path = \"/home/nikita/Workspace/DiversityMeasures/anim\"\n",
    "remove_files_in_folder(folder_path)\n",
    "\n",
    "\n",
    "generate_bar_chart(generate_distribution_steps(populations[0], populations[1], 50), frameCounter)\n",
    "\n",
    "generate_bar_chart(generate_distribution_steps(populations[1], populations[2], 50), 51)\n",
    "\n",
    "create_gif_from_folder(folder_path, 'my_gif.gif', 0.8)"
   ]
  }
 ],
 "metadata": {
  "kernelspec": {
   "display_name": "Python 3",
   "language": "python",
   "name": "python3"
  },
  "language_info": {
   "name": "python",
   "version": "3.11.7"
  }
 },
 "nbformat": 4,
 "nbformat_minor": 2
}
