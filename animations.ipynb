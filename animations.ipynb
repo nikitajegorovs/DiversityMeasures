{
 "cells": [
  {
   "cell_type": "code",
   "execution_count": 70,
   "metadata": {},
   "outputs": [
    {
     "ename": "ModuleNotFoundError",
     "evalue": "No module named 'imageio'",
     "output_type": "error",
     "traceback": [
      "\u001b[0;31m---------------------------------------------------------------------------\u001b[0m",
      "\u001b[0;31mModuleNotFoundError\u001b[0m                       Traceback (most recent call last)",
      "Cell \u001b[0;32mIn[70], line 7\u001b[0m\n\u001b[1;32m      4\u001b[0m \u001b[38;5;28;01mimport\u001b[39;00m \u001b[38;5;21;01mos\u001b[39;00m\n\u001b[1;32m      5\u001b[0m \u001b[38;5;28;01mimport\u001b[39;00m \u001b[38;5;21;01mglob\u001b[39;00m\n\u001b[0;32m----> 7\u001b[0m \u001b[38;5;28;01mimport\u001b[39;00m \u001b[38;5;21;01mimageio\u001b[39;00m\n\u001b[1;32m      9\u001b[0m populations \u001b[38;5;241m=\u001b[39m np\u001b[38;5;241m.\u001b[39marray([[\u001b[38;5;241m0.25\u001b[39m, \u001b[38;5;241m0.25\u001b[39m, \u001b[38;5;241m0.25\u001b[39m, \u001b[38;5;241m0.25\u001b[39m],\n\u001b[1;32m     10\u001b[0m \t\t\t\t\t    [\u001b[38;5;241m0.50\u001b[39m, \u001b[38;5;241m0.30\u001b[39m, \u001b[38;5;241m0.20\u001b[39m, \u001b[38;5;241m0.10\u001b[39m],\n\u001b[1;32m     11\u001b[0m \t\t\t\t\t    [\u001b[38;5;241m1\u001b[39m, \u001b[38;5;241m0\u001b[39m, \u001b[38;5;241m0\u001b[39m, \u001b[38;5;241m0\u001b[39m]])\n\u001b[1;32m     13\u001b[0m label \u001b[38;5;241m=\u001b[39m [\u001b[38;5;241m0.5\u001b[39m, \u001b[38;5;241m1\u001b[39m, \u001b[38;5;241m1.5\u001b[39m, \u001b[38;5;241m2\u001b[39m]\n",
      "\u001b[0;31mModuleNotFoundError\u001b[0m: No module named 'imageio'"
     ]
    }
   ],
   "source": [
    "import matplotlib.pyplot as plt\n",
    "import numpy as np\n",
    "\n",
    "import os\n",
    "import glob\n",
    "\n",
    "import imageio\n",
    "\n",
    "populations = np.array([[0.25, 0.25, 0.25, 0.25],\n",
    "\t\t\t\t\t    [0.50, 0.30, 0.20, 0.10],\n",
    "\t\t\t\t\t    [1, 0, 0, 0]])\n",
    "\n",
    "label = [0.5, 1, 1.5, 2]\n",
    "\n",
    "frames = 50\n",
    "frameCounter = 1\n",
    "\n",
    "def remove_files_in_folder(folder_path):\n",
    "    file_pattern = os.path.join(folder_path, \"*\")\n",
    "    files = glob.glob(file_pattern)\n",
    "    \n",
    "    for file_path in files:\n",
    "        if os.path.isfile(file_path):\n",
    "            try:\n",
    "                os.remove(file_path)\n",
    "                print(f\"Removed: {file_path}\")\n",
    "            except Exception as e:\n",
    "                print(f\"Error removing {file_path}: {e}\")\n",
    "\n",
    "def generate_distribution_steps(start, stop, frames):\n",
    "    dif = (start - stop)/(frames-1)\n",
    "\n",
    "    res = []\n",
    "    res.append(start.tolist())\n",
    "\n",
    "    state = start\n",
    "    \n",
    "    for i in range(frames-1):\n",
    "        state += diff\n",
    "        res.append(state.tolist())\n",
    "    return res\n",
    "\n",
    "def generate_bar_chart(distributions, frameCounter):\n",
    "    for i in distributions:\n",
    "        plt.xlim(0, 3)\n",
    "        plt.ylim(0, 1)\n",
    "        \n",
    "        # Plotting graph\n",
    "        plt.bar(label, i, width=0.45)\n",
    "        plt.savefig(f'anim/pic{frameCounter}.png')\n",
    "        plt.clf()\n",
    "\n",
    "        frameCounter += 1\n",
    "\n",
    "def create_gif_from_folder(folder_path, output_filename='output.gif', duration=0.5):\n",
    "    pic_files = [f for f in os.listdir(folder_path) if f.endswith(('.png'))]\n",
    "    pic_files.sort() \n",
    "\n",
    "    images = []\n",
    "    for filename in pic_files:\n",
    "        file_path = os.path.join(folder_path, filename)\n",
    "        images.append(imageio.imread(file_path))\n",
    "\n",
    "    # Create the GIF\n",
    "    output_path = os.path.join(folder_path, output_filename)\n",
    "    imageio.mimsave(output_path, images, duration=duration)\n",
    "\n",
    "    print(f\"GIF created at {output_path}\")\n",
    "\n",
    "\n",
    "folder_path = \"/Users/nikitajegorovs/Workspace/5_biodiversity/anim\"\n",
    "remove_files_in_folder(folder_path)\n",
    "\n",
    "generate_bar_chart(generate_distribution_steps(populations[0], populations[1], 50), frameCounter)\n",
    "generate_bar_chart(generate_distribution_steps(populations[1], populations[2], 50), frameCounter)\n",
    "\n",
    "create_gif_from_folder(folder_path, 'my_gif.gif', 0.8)"
   ]
  },
  {
   "cell_type": "code",
   "execution_count": 57,
   "metadata": {},
   "outputs": [
    {
     "name": "stdout",
     "output_type": "stream",
     "text": [
      "[[0.25, 0.25, 0.25, 0.25], [0.255, 0.251, 0.249, 0.247], [0.26, 0.252, 0.248, 0.244], [0.265, 0.253, 0.247, 0.241], [0.27, 0.254, 0.246, 0.238], [0.275, 0.255, 0.245, 0.235], [0.28, 0.256, 0.244, 0.23199999999999998], [0.28500000000000003, 0.257, 0.243, 0.22899999999999998], [0.29000000000000004, 0.258, 0.242, 0.22599999999999998], [0.29500000000000004, 0.259, 0.241, 0.22299999999999998], [0.30000000000000004, 0.26, 0.24, 0.21999999999999997], [0.30500000000000005, 0.261, 0.239, 0.21699999999999997], [0.31000000000000005, 0.262, 0.238, 0.21399999999999997], [0.31500000000000006, 0.263, 0.237, 0.21099999999999997], [0.32000000000000006, 0.264, 0.236, 0.20799999999999996], [0.32500000000000007, 0.265, 0.235, 0.20499999999999996], [0.33000000000000007, 0.266, 0.23399999999999999, 0.20199999999999996], [0.3350000000000001, 0.267, 0.23299999999999998, 0.19899999999999995], [0.3400000000000001, 0.268, 0.23199999999999998, 0.19599999999999995], [0.3450000000000001, 0.269, 0.23099999999999998, 0.19299999999999995], [0.3500000000000001, 0.27, 0.22999999999999998, 0.18999999999999995], [0.3550000000000001, 0.271, 0.22899999999999998, 0.18699999999999994], [0.3600000000000001, 0.272, 0.22799999999999998, 0.18399999999999994], [0.3650000000000001, 0.273, 0.22699999999999998, 0.18099999999999994], [0.3700000000000001, 0.274, 0.22599999999999998, 0.17799999999999994], [0.3750000000000001, 0.275, 0.22499999999999998, 0.17499999999999993], [0.3800000000000001, 0.276, 0.22399999999999998, 0.17199999999999993], [0.3850000000000001, 0.277, 0.22299999999999998, 0.16899999999999993], [0.3900000000000001, 0.278, 0.22199999999999998, 0.16599999999999993], [0.39500000000000013, 0.279, 0.22099999999999997, 0.16299999999999992], [0.40000000000000013, 0.28, 0.21999999999999997, 0.15999999999999992], [0.40500000000000014, 0.281, 0.21899999999999997, 0.15699999999999992], [0.41000000000000014, 0.28200000000000003, 0.21799999999999997, 0.15399999999999991], [0.41500000000000015, 0.28300000000000003, 0.21699999999999997, 0.1509999999999999], [0.42000000000000015, 0.28400000000000003, 0.21599999999999997, 0.1479999999999999], [0.42500000000000016, 0.28500000000000003, 0.21499999999999997, 0.1449999999999999], [0.43000000000000016, 0.28600000000000003, 0.21399999999999997, 0.1419999999999999], [0.43500000000000016, 0.28700000000000003, 0.21299999999999997, 0.1389999999999999], [0.44000000000000017, 0.28800000000000003, 0.21199999999999997, 0.1359999999999999], [0.4450000000000002, 0.28900000000000003, 0.21099999999999997, 0.1329999999999999], [0.4500000000000002, 0.29000000000000004, 0.20999999999999996, 0.1299999999999999], [0.4550000000000002, 0.29100000000000004, 0.20899999999999996, 0.1269999999999999], [0.4600000000000002, 0.29200000000000004, 0.20799999999999996, 0.12399999999999989], [0.4650000000000002, 0.29300000000000004, 0.20699999999999996, 0.12099999999999989], [0.4700000000000002, 0.29400000000000004, 0.20599999999999996, 0.11799999999999988], [0.4750000000000002, 0.29500000000000004, 0.20499999999999996, 0.11499999999999988], [0.4800000000000002, 0.29600000000000004, 0.20399999999999996, 0.11199999999999988], [0.4850000000000002, 0.29700000000000004, 0.20299999999999996, 0.10899999999999987], [0.4900000000000002, 0.29800000000000004, 0.20199999999999996, 0.10599999999999987], [0.4950000000000002, 0.29900000000000004, 0.20099999999999996, 0.10299999999999987], [0.5000000000000002, 0.30000000000000004, 0.19999999999999996, 0.09999999999999987]]\n"
     ]
    }
   ],
   "source": [
    "import numpy as np\n",
    "\n",
    "def generate_distribution_steps(start, stop, frames):\n",
    "    dif = (start - stop)/frames\n",
    "\n",
    "    res = []\n",
    "    res.append(start.tolist())\n",
    "\n",
    "    state = start\n",
    "    \n",
    "    for i in range(frames):\n",
    "        state += diff\n",
    "        res.append(state.tolist())\n",
    "    return res\n",
    "\n",
    "populations = np.array([[0.25, 0.25, 0.25, 0.25],\n",
    "\t\t\t\t\t[0.50, 0.30, 0.20, 0.10],\n",
    "\t\t\t\t\t[1, 0, 0, 0]])\n",
    "\n",
    "print(generate_distribution_steps(populations[0], populations[1], 50))"
   ]
  },
  {
   "cell_type": "code",
   "execution_count": 52,
   "metadata": {},
   "outputs": [
    {
     "data": {
      "text/plain": [
       "[[1, 2, 3], [4, 5, 6]]"
      ]
     },
     "execution_count": 52,
     "metadata": {},
     "output_type": "execute_result"
    }
   ],
   "source": [
    "\n",
    "l = []\n",
    "l.append([1,2,3])\n",
    "l.append([4,5,6])\n",
    "l"
   ]
  },
  {
   "cell_type": "code",
   "execution_count": null,
   "metadata": {},
   "outputs": [],
   "source": []
  }
 ],
 "metadata": {
  "kernelspec": {
   "display_name": "Python 3",
   "language": "python",
   "name": "python3"
  },
  "language_info": {
   "name": "python",
   "version": "3.11.7"
  }
 },
 "nbformat": 4,
 "nbformat_minor": 2
}
